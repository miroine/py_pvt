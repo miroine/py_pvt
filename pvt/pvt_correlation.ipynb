{
 "cells": [
  {
   "cell_type": "code",
   "execution_count": 31,
   "metadata": {},
   "outputs": [
    {
     "name": "stdout",
     "output_type": "stream",
     "text": [
      "The autoreload extension is already loaded. To reload it, use:\n",
      "  %reload_ext autoreload\n"
     ]
    }
   ],
   "source": [
    "%load_ext autoreload\n",
    "%autoreload 2\n",
    "from gas_correlation import DryGas\n",
    "\n",
    "import numpy as np\n",
    "import pandas as pd "
   ]
  },
  {
   "cell_type": "markdown",
   "metadata": {},
   "source": [
    "## Dry gas correlation\n",
    "\n",
    "library for main dry gas correlations"
   ]
  },
  {
   "cell_type": "code",
   "execution_count": 243,
   "metadata": {},
   "outputs": [
    {
     "name": "stdout",
     "output_type": "stream",
     "text": [
      "density converted to kg/m3 \n",
      " *********************\n",
      "\n",
      " OUTPUT\n",
      "\n",
      " Z factor : 0.9565772692346955 \n",
      "\n",
      " density : 674.1228121577589 \n",
      "\n",
      " bg : 0.004400798003103045 \n",
      "\n",
      " viscosity : 0.26846386437984693 \n",
      "\n"
     ]
    }
   ],
   "source": [
    "\n",
    "\"\"\"\n",
    "INPUT\n",
    "\"\"\"\n",
    "pressure = 300 # bar\n",
    "temp = 120 # degC\n",
    "sg = 0.85 # specific gravity\n",
    "x_h2s = 0.02 # mole fraction of H2S in gas\n",
    "x_co2 = 0.1 # mole fraction of CO2 in gas\n",
    "\n",
    "\"\"\"\n",
    "CALCULATOR\n",
    "\"\"\"\n",
    "# initialize a dry gas object \n",
    "c = DryGas ()\n",
    "\n",
    "\n",
    "zfactor = c.gas_zfactor (temp_i = temp , press_i = pressure, sg = sg, unit_system=\"metric\")\n",
    "\n",
    "gas_density = c.gas_density ( temp_i = temp, press_i = pressure , sg=sg, unit_system=\"metric\" )\n",
    "\n",
    "bg = c.gas_fvf( temp_i = temp, press_i = pressure , sg=sg , unit_system=\"metric\")\n",
    "mu = c.gas_viscosity(temp_i = temp, press_i=pressure, sg=sg , unit_system=\"metric\")\n",
    "\n",
    "print (f\" *********************\\n\")\n",
    "print (f\" OUTPUT\\n\")\n",
    "print (f\" Z factor : {zfactor} \\n\")\n",
    "print (f\" density : {gas_density} \\n\")\n",
    "print (f\" bg : {bg} \\n\")\n",
    "print (f\" viscosity : {mu} \\n\")"
   ]
  },
  {
   "cell_type": "markdown",
   "metadata": {},
   "source": [
    "## Oil Correlation"
   ]
  },
  {
   "cell_type": "code",
   "execution_count": 34,
   "metadata": {},
   "outputs": [
    {
     "name": "stdout",
     "output_type": "stream",
     "text": [
      "The autoreload extension is already loaded. To reload it, use:\n",
      "  %reload_ext autoreload\n"
     ]
    }
   ],
   "source": [
    "%load_ext autoreload\n",
    "%autoreload 2\n",
    "from oil_correlation import Oil"
   ]
  },
  {
   "cell_type": "code",
   "execution_count": 327,
   "metadata": {},
   "outputs": [
    {
     "name": "stdout",
     "output_type": "stream",
     "text": [
      "standing: 240.95 n/ glaso:  235.15 n/ Vasquez Beggs: 250.98\n"
     ]
    }
   ],
   "source": [
    "rs = 150 \n",
    "sto_api = 38 \n",
    "sg = 0.85 \n",
    "temp = 150 \n",
    "c = Oil()\n",
    "standing_pb= c.oil_pbubble(rs, sto_api, sg, temp, correlaion =\"standing\", unit_system=\"metric\")\n",
    "glaso_pb= c.oil_pbubble(rs, sto_api, sg, temp, correlaion =\"glaso\", unit_system=\"metric\")\n",
    "vasquezbeggs_pb = c.oil_pbubble(rs, sto_api, sg, temp, correlaion =\"vazquezbeggs\", unit_system=\"metric\")\n",
    "valko_pb = c.oil_pbubble(rs, sto_api, sg, temp, correlaion =\"valkomccain\", unit_system=\"metric\")\n",
    "marhoun_pb = c.oil_pbubble(rs, sto_api, sg, temp, correlaion =\"marhoun\", unit_system=\"metric\")\n",
    "petrosky_pb = c.oil_pbubble(rs, sto_api, sg, temp, correlaion =\"petrosky\", unit_system=\"metric\")\n",
    "velarde_pb = c.oil_pbubble(rs, sto_api, sg, temp, correlaion =\"velarde\", unit_system=\"metric\")\n",
    "\n",
    "print(f\"standing: {standing_pb :.2f} n/ glaso:  {glaso_pb:.2f} n/ Vasquez Beggs: {vasquezbeggs_pb :.2f}\")\n"
   ]
  },
  {
   "cell_type": "code",
   "execution_count": 10,
   "metadata": {},
   "outputs": [],
   "source": [
    "rs = 60 \n",
    "sto_api = 35 \n",
    "sg = 0.75 \n",
    "temp = 90 \n",
    "c = Oil()\n",
    "\n",
    "sg_oil = c.calc_oil_dens_api(sto_api=sto_api)\n",
    "\n",
    "bob_standing = c.oil_fvf(temp, rs, sg_oil, sg,  unit_system=\"metric\", correlation=\"standing\")"
   ]
  },
  {
   "cell_type": "code",
   "execution_count": 32,
   "metadata": {},
   "outputs": [],
   "source": [
    "temp = 250 #F \n",
    "pb = 2620 #psi \n",
    "api = 47.1 \n",
    "sg_gas = 0.851 \n",
    "\n",
    "c= Oil()\n"
   ]
  },
  {
   "cell_type": "code",
   "execution_count": 96,
   "metadata": {},
   "outputs": [
    {
     "name": "stdout",
     "output_type": "stream",
     "text": [
      "The autoreload extension is already loaded. To reload it, use:\n",
      "  %reload_ext autoreload\n",
      "6.357900435077436e-05\n",
      "5.684543921395764e-05\n",
      "6.974325385199652e-05\n",
      "5.57265316016602e-05\n",
      "5.754922274883162e-05\n",
      "4.1466277750315774e-05\n"
     ]
    },
    {
     "name": "stderr",
     "output_type": "stream",
     "text": [
      "c:\\Users\\meham\\OneDrive - Equinor\\development projects\\pvt\\oil_correlation.py:635: UserWarning: no RS present in inputs --> calculating it\n"
     ]
    }
   ],
   "source": [
    "%load_ext autoreload\n",
    "%autoreload 2\n",
    "from oil_correlation import Oil\n",
    "\n",
    "\n",
    "c= Oil()\n",
    "\n",
    "temps = [250,220, 260, 237, 218, 180] #F \n",
    "pbs = [2377,2620, 2051, 2884, 3045, 4239] #psi \n",
    "apis = [47.1, 40.7, 48.6, 40.5, 44.2, 27.3] \n",
    "sg_gass = [0.851,0.855, 0.911, 0.898, 0.781, 0.848] \n",
    "\n",
    "for temp, pb, api, sg_gas in zip(temps, pbs, apis, sg_gass):\n",
    "    rho = c.oil_compressibility(press=pb , temp=temp, sg_gas=sg_gas, sto_api=api, unit_system=\"field\", correlation=\"vasquezbeggs\")\n",
    "    print(rho)"
   ]
  },
  {
   "cell_type": "code",
   "execution_count": 74,
   "metadata": {},
   "outputs": [
    {
     "name": "stdout",
     "output_type": "stream",
     "text": [
      "calculating oil gravity from API \n"
     ]
    },
    {
     "data": {
      "text/plain": [
       "47.79067400701489"
      ]
     },
     "execution_count": 74,
     "metadata": {},
     "output_type": "execute_result"
    }
   ],
   "source": [
    "c.oil_den(press=pb , temp=temp, sg_gas=sg_gas, sto_api=api)"
   ]
  },
  {
   "cell_type": "code",
   "execution_count": 40,
   "metadata": {},
   "outputs": [
    {
     "data": {
      "text/plain": [
       "2.302585092994046"
      ]
     },
     "execution_count": 40,
     "metadata": {},
     "output_type": "execute_result"
    }
   ],
   "source": [
    "np.log(10)"
   ]
  },
  {
   "cell_type": "code",
   "execution_count": 41,
   "metadata": {},
   "outputs": [
    {
     "data": {
      "text/plain": [
       "2.302585092994046"
      ]
     },
     "execution_count": 41,
     "metadata": {},
     "output_type": "execute_result"
    }
   ],
   "source": [
    "import math \n",
    "math.log(10)"
   ]
  },
  {
   "cell_type": "code",
   "execution_count": null,
   "metadata": {},
   "outputs": [],
   "source": []
  }
 ],
 "metadata": {
  "kernelspec": {
   "display_name": "py39_venv",
   "language": "python",
   "name": "python3"
  },
  "language_info": {
   "codemirror_mode": {
    "name": "ipython",
    "version": 3
   },
   "file_extension": ".py",
   "mimetype": "text/x-python",
   "name": "python",
   "nbconvert_exporter": "python",
   "pygments_lexer": "ipython3",
   "version": "3.9.13"
  }
 },
 "nbformat": 4,
 "nbformat_minor": 2
}
